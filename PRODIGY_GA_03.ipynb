{
  "nbformat": 4,
  "nbformat_minor": 0,
  "metadata": {
    "colab": {
      "provenance": []
    },
    "kernelspec": {
      "name": "python3",
      "display_name": "Python 3"
    },
    "language_info": {
      "name": "python"
    }
  },
  "cells": [
    {
      "cell_type": "code",
      "execution_count": null,
      "metadata": {
        "colab": {
          "base_uri": "https://localhost:8080/"
        },
        "id": "O3o7vsT8nbzz",
        "outputId": "c6c3d087-5132-476b-c68b-c4530e66b35e"
      },
      "outputs": [
        {
          "output_type": "stream",
          "name": "stdout",
          "text": [
            "Generated Text:\n",
            "\n",
            "upon a king was graceful and the queen was graceful and happiness.\n"
          ]
        }
      ],
      "source": [
        "\n",
        "# 📌 Step 1: Sample Input Text\n",
        "sample_text = \"\"\"\n",
        "Once upon a time in a land far away, there lived a king and a queen.\n",
        "The king was kind and wise, and the queen was graceful and brave.\n",
        "Together, they ruled the kingdom in peace and happiness.\n",
        "\"\"\"\n",
        "\n",
        "# 📌 Step 2: Build the Markov Chain\n",
        "def build_markov_chain(text, n=1):\n",
        "    words = text.split()\n",
        "    chain = {}\n",
        "\n",
        "    for i in range(len(words) - n):\n",
        "        key = tuple(words[i:i+n])\n",
        "        next_word = words[i+n]\n",
        "        if key not in chain:\n",
        "            chain[key] = []\n",
        "        chain[key].append(next_word)\n",
        "\n",
        "    return chain\n",
        "\n",
        "# 📌 Step 3: Generate Text\n",
        "import random\n",
        "\n",
        "def generate_text(chain, length=30):\n",
        "    key = random.choice(list(chain.keys()))\n",
        "    result = list(key)\n",
        "\n",
        "    for _ in range(length):\n",
        "        next_words = chain.get(key)\n",
        "        if not next_words:\n",
        "            break\n",
        "        next_word = random.choice(next_words)\n",
        "        result.append(next_word)\n",
        "        key = tuple(result[-len(key):])\n",
        "\n",
        "    return ' '.join(result)\n",
        "\n",
        "# 📌 Step 4: Run the Model\n",
        "chain = build_markov_chain(sample_text, n=1)\n",
        "generated_text = generate_text(chain, length=30)\n",
        "print(\"Generated Text:\\n\")\n",
        "print(generated_text)\n"
      ]
    }
  ]
}